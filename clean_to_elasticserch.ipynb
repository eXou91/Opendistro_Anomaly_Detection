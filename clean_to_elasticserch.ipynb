{
 "metadata": {
  "language_info": {
   "codemirror_mode": {
    "name": "ipython",
    "version": 3
   },
   "file_extension": ".py",
   "mimetype": "text/x-python",
   "name": "python",
   "nbconvert_exporter": "python",
   "pygments_lexer": "ipython3",
   "version": "3.6.9-final"
  },
  "orig_nbformat": 2,
  "kernelspec": {
   "name": "python3",
   "display_name": "Python 3",
   "language": "python"
  }
 },
 "nbformat": 4,
 "nbformat_minor": 2,
 "cells": [
  {
   "cell_type": "code",
   "execution_count": 87,
   "metadata": {},
   "outputs": [],
   "source": [
    "import numpy as np\n",
    "import pandas as pd\n",
    "from elasticsearch import Elasticsearch\n",
    "from elasticsearch import helpers\n",
    "import ipaddress\n",
    "es_client = Elasticsearch(http_compress=True)"
   ]
  },
  {
   "cell_type": "code",
   "execution_count": 88,
   "metadata": {},
   "outputs": [],
   "source": [
    "import random\n",
    "from random import randrange\n",
    "\n",
    "def generateIP():\n",
    "    blockOne = randrange(0, 255, 1)\n",
    "    blockTwo = randrange(0, 255, 1)\n",
    "    blockThree = randrange(0, 255, 1)\n",
    "    blockFour = randrange(0, 255, 1)\n",
    "\n",
    "    return str(blockOne) + '.' + str(blockTwo) + '.' + str(blockThree) + '.' + str(blockFour)"
   ]
  },
  {
   "cell_type": "code",
   "execution_count": 89,
   "metadata": {},
   "outputs": [
    {
     "output_type": "stream",
     "name": "stdout",
     "text": [
      "CPU times: user 3 µs, sys: 0 ns, total: 3 µs\nWall time: 6.44 µs\n"
     ]
    }
   ],
   "source": [
    "%time\n",
    "def generate(median=630, err=12, outlier_err=400, size=30000, outlier_size=1500):\n",
    "    flow_errs = err * np.random.rand(size) * np.random.choice((-1, 1), size)\n",
    "    flow_good = median + flow_errs\n",
    "    sessions_good = np.random.rand(size) * 10 + 1\n",
    "    sessions_good = np.round(sessions_good,0)\n",
    "    combined_good = np.vstack((flow_good, sessions_good)).T \n",
    "\n",
    "\n",
    "    flow_lower_errs = outlier_err * np.random.rand(outlier_size)\n",
    "    flow_lower_outliers = median - err -flow_lower_errs\n",
    "    sessions_lower_outliers = np.random.rand(outlier_size) * 1 + 1\n",
    "    sessions_lower_outliers = np.round(sessions_lower_outliers,0)\n",
    "    combined_lower = np.vstack((flow_lower_outliers, sessions_lower_outliers)).T\n",
    "\n",
    "    flow_upper_errs = outlier_err * np.random.rand(outlier_size)\n",
    "    flow_upper_outliers = median + err + flow_upper_errs\n",
    "    sessions_upper_outliers = np.random.rand(outlier_size) * 1000\n",
    "    sessions_upper_outliers = np.round(sessions_upper_outliers,0)\n",
    "    combined_upper = np.vstack((flow_upper_outliers, sessions_upper_outliers)).T\n",
    "\n",
    "    data = np.concatenate((combined_good, combined_lower, combined_upper))\n",
    "    #   np.random.shuffle(data)\n",
    "\n",
    "    return data"
   ]
  },
  {
   "cell_type": "code",
   "execution_count": 90,
   "metadata": {},
   "outputs": [],
   "source": [
    "data = generate()\n",
    "df = pd.DataFrame(data=generate())\n",
    "# \"nb_sessions\", \"nb_src_ip\", \"nb_dest_ip\", \"sum_url\", \"sum_bytes_toclient\", \"sum_bytes_toserver\", \"ratio_server_client\""
   ]
  },
  {
   "cell_type": "code",
   "execution_count": 91,
   "metadata": {
    "tags": []
   },
   "outputs": [],
   "source": [
    "df['source_ip'] = '190.166.13.79'\n",
    "for i in df.index:\n",
    "    if i < 30000:\n",
    "        df.loc[i, 'source_ip'] = '192.11.13.'+ str(random.randrange(150, 180))\n",
    "    else:\n",
    "        df.loc[i, 'source_ip'] = generateIP()"
   ]
  },
  {
   "cell_type": "code",
   "execution_count": 92,
   "metadata": {},
   "outputs": [],
   "source": [
    "df['outliers'] = 0\n",
    "df[30000:]['outliers'] = 1"
   ]
  },
  {
   "cell_type": "code",
   "execution_count": 93,
   "metadata": {},
   "outputs": [],
   "source": [
    "df = df.rename(columns = {0 : \"sum_bytes_toclient\", 1 : \"nb_sessions\"})\n",
    "df['sum_bytes_toclient'] = df['sum_bytes_toclient'].round(0)\n",
    "df = df.astype({'sum_bytes_toclient': int, 'nb_sessions': int, 'source_ip': str})"
   ]
  },
  {
   "cell_type": "code",
   "execution_count": 94,
   "metadata": {},
   "outputs": [],
   "source": [
    "df['ts'] = pd.date_range(\"2021-01-27 9:28:00\", periods=32400, freq=\"min\")\n",
    "df['id'] = np.linspace(1, 32400, 32400)"
   ]
  },
  {
   "cell_type": "code",
   "execution_count": 95,
   "metadata": {},
   "outputs": [],
   "source": [
    "use_these_keys = ['sum_bytes_toclient', 'nb_sessions', 'source_ip', 'outliers','ts','id']\n",
    "def filterKeys(document):\n",
    "    return {key: document[key] for key in use_these_keys }"
   ]
  },
  {
   "cell_type": "code",
   "execution_count": 96,
   "metadata": {},
   "outputs": [
    {
     "output_type": "execute_result",
     "data": {
      "text/plain": [
       "(32400, [])"
      ]
     },
     "metadata": {},
     "execution_count": 96
    }
   ],
   "source": [
    "def doc_generator(df):\n",
    "    df_iter = df.iterrows()\n",
    "    for index, document in df_iter:\n",
    "        yield {\n",
    "                \"_index\": 'anomaly_example',\n",
    "                \"_type\": \"_doc\",\n",
    "                \"_id\" : f\"{document['id']}\",\n",
    "                \"_source\": filterKeys(document),\n",
    "            }\n",
    "    raise StopIteration\n",
    "helpers.bulk(es_client, doc_generator(df))"
   ]
  },
  {
   "cell_type": "code",
   "execution_count": null,
   "metadata": {},
   "outputs": [],
   "source": []
  }
 ]
}